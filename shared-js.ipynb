{
 "cells": [
  {
   "cell_type": "code",
   "execution_count": null,
   "id": "1bee0330",
   "metadata": {},
   "outputs": [],
   "source": [
    "# This widget can be added once to the app\n",
    "from examples.shared_js import SharedJs\n",
    "SharedJs()"
   ]
  },
  {
   "cell_type": "code",
   "execution_count": null,
   "id": "796606ef",
   "metadata": {},
   "outputs": [],
   "source": [
    "# All tables can use the JS and CSS\n",
    "from ipyaggrid import Grid\n",
    "\n",
    "grid = Grid(\n",
    "    grid_data=[\n",
    "        {\"make\": \"Toyota\", \"model\": \"Celica\", \"price\": 35000},\n",
    "        {\"make\": \"Ford\", \"model\": \"Mondeo\", \"price\": 32000},\n",
    "        {\"make\": \"Porsche\", \"model\": \"Boxster\", \"price\": 72000},\n",
    "    ],\n",
    "    grid_options={\n",
    "        'columnDefs': [\n",
    "            {\"headerName\": \"Make\", \"field\": \"make\", \"editable\": True},\n",
    "            {\"headerName\": \"Model\", \"field\": \"model\", \"editable\": True},\n",
    "            {\"headerName\": \"Price\", \"field\": \"price\", \"editable\": True, 'type': 'numericColumn',\n",
    "             'cellClass': \"__js__: myNamespace.highPriceCellClass\",\n",
    "             \"tooltipField\": 'price',\n",
    "             \"tooltipComponent\": \"__js__: myNamespace.highPriceTooltipComponent\",\n",
    "             }\n",
    "        ],\n",
    "        'tooltipShowDelay': 0,\n",
    "        'tooltipHideDelay': 2000,\n",
    "    },\n",
    ")\n",
    "\n",
    "grid"
   ]
  },
  {
   "cell_type": "code",
   "execution_count": null,
   "id": "4e977e82",
   "metadata": {},
   "outputs": [],
   "source": [
    "# example with configurable price:\n",
    "grid2 = Grid(\n",
    "    grid_data=[\n",
    "        {\"make\": \"Toyota\", \"model\": \"Celica\", \"price\": 35000},\n",
    "        {\"make\": \"Ford\", \"model\": \"Mondeo\", \"price\": 32000},\n",
    "        {\"make\": \"Porsche\", \"model\": \"Boxster\", \"price\": 72000},\n",
    "    ],\n",
    "    grid_options={\n",
    "        'columnDefs': [\n",
    "            {\"headerName\": \"Make\", \"field\": \"make\", \"editable\": True},\n",
    "            {\"headerName\": \"Model\", \"field\": \"model\", \"editable\": True},\n",
    "            {\"headerName\": \"Price\", \"field\": \"price\", \"editable\": True, 'type': 'numericColumn',\n",
    "             'cellClass': \"__js__: myNamespace.highPriceWithConfigCellClass(35000)\",\n",
    "            }\n",
    "        ],\n",
    "    },\n",
    ")\n",
    "\n",
    "grid2"
   ]
  },
  {
   "cell_type": "code",
   "execution_count": null,
   "id": "12bb71e3",
   "metadata": {},
   "outputs": [],
   "source": []
  }
 ],
 "metadata": {
  "kernelspec": {
   "display_name": "Python 3 (ipykernel)",
   "language": "python",
   "name": "python3"
  },
  "language_info": {
   "codemirror_mode": {
    "name": "ipython",
    "version": 3
   },
   "file_extension": ".py",
   "mimetype": "text/x-python",
   "name": "python",
   "nbconvert_exporter": "python",
   "pygments_lexer": "ipython3",
   "version": "3.9.15"
  }
 },
 "nbformat": 4,
 "nbformat_minor": 5
}
